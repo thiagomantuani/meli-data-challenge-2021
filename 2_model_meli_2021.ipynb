{
  "nbformat": 4,
  "nbformat_minor": 0,
  "metadata": {
    "colab": {
      "name": "2_model_meli_2021.ipynb",
      "provenance": [],
      "collapsed_sections": [
        "uBsRK5IFGUqt",
        "wqCgDh7wG9ka"
      ],
      "authorship_tag": "ABX9TyPV7RGv6O2Z9G9/6xRJEkwt",
      "include_colab_link": true
    },
    "kernelspec": {
      "display_name": "Python 3",
      "name": "python3"
    },
    "language_info": {
      "name": "python"
    }
  },
  "cells": [
    {
      "cell_type": "markdown",
      "metadata": {
        "id": "view-in-github",
        "colab_type": "text"
      },
      "source": [
        "<a href=\"https://colab.research.google.com/github/thiagomantuani/meli-data-challenge-2021/blob/main/2_model_meli_2021.ipynb\" target=\"_parent\"><img src=\"https://colab.research.google.com/assets/colab-badge.svg\" alt=\"Open In Colab\"/></a>"
      ]
    },
    {
      "cell_type": "code",
      "metadata": {
        "colab": {
          "base_uri": "https://localhost:8080/"
        },
        "id": "tCKRFkV43i3a",
        "outputId": "2cfd4b36-0fbc-4372-cbb0-d513285deeea"
      },
      "source": [
        "!pip install tweedie\n",
        "!pip install scikit-learn --upgrade\n",
        "!pip install tqdm"
      ],
      "execution_count": null,
      "outputs": [
        {
          "output_type": "stream",
          "name": "stdout",
          "text": [
            "Requirement already satisfied: tweedie in /usr/local/lib/python3.7/dist-packages (0.0.7)\n",
            "Requirement already satisfied: scikit-learn in /usr/local/lib/python3.7/dist-packages (0.24.2)\n",
            "Requirement already satisfied: numpy>=1.13.3 in /usr/local/lib/python3.7/dist-packages (from scikit-learn) (1.19.5)\n",
            "Requirement already satisfied: joblib>=0.11 in /usr/local/lib/python3.7/dist-packages (from scikit-learn) (1.0.1)\n",
            "Requirement already satisfied: threadpoolctl>=2.0.0 in /usr/local/lib/python3.7/dist-packages (from scikit-learn) (2.2.0)\n",
            "Requirement already satisfied: scipy>=0.19.1 in /usr/local/lib/python3.7/dist-packages (from scikit-learn) (1.4.1)\n",
            "Requirement already satisfied: tqdm in /usr/local/lib/python3.7/dist-packages (4.62.0)\n"
          ]
        }
      ]
    },
    {
      "cell_type": "markdown",
      "metadata": {
        "id": "jQRX1afUZQTU"
      },
      "source": [
        "# **Imports**"
      ]
    },
    {
      "cell_type": "code",
      "metadata": {
        "id": "z-LbjPEU2uAY"
      },
      "source": [
        "from google.colab                    import drive   \n",
        "import pandas                        as pd\n",
        "import numpy                         as np\n",
        "import seaborn                       as sns\n",
        "import datetime\n",
        "from sklearn import linear_model\n",
        "import scipy.stats as st\n",
        "import pdb\n",
        "import os\n",
        "import gc\n",
        "import tweedie\n",
        "import tqdm\n",
        "from scipy.stats import norm\n",
        "from sklearn.preprocessing import PowerTransformer\n",
        "\n",
        "%matplotlib inline"
      ],
      "execution_count": null,
      "outputs": []
    },
    {
      "cell_type": "code",
      "metadata": {
        "id": "FhmvvNvz2yrg",
        "colab": {
          "base_uri": "https://localhost:8080/"
        },
        "outputId": "c422f58f-b4d5-482b-d7f4-9f2b8600773a"
      },
      "source": [
        "drive.mount('/gdrive')\n",
        "path = '/gdrive/My Drive/DataSets/meli2021/'\n",
        "os.chdir(path)"
      ],
      "execution_count": null,
      "outputs": [
        {
          "output_type": "stream",
          "name": "stdout",
          "text": [
            "Drive already mounted at /gdrive; to attempt to forcibly remount, call drive.mount(\"/gdrive\", force_remount=True).\n"
          ]
        }
      ]
    },
    {
      "cell_type": "markdown",
      "metadata": {
        "id": "WyzzrrTH0j48"
      },
      "source": [
        "# **Functions**\n"
      ]
    },
    {
      "cell_type": "code",
      "metadata": {
        "id": "S-Xzvuwt0oGu"
      },
      "source": [
        "def reduce_mem_usage(df, verbose=True):\n",
        "    numerics = ['int16', 'int32', 'int64', 'float16', 'float32', 'float64']\n",
        "    start_mem = df.memory_usage().sum() / 1024**2    \n",
        "    for col in df.columns:\n",
        "        col_type = df[col].dtypes\n",
        "        if col_type in numerics:\n",
        "            c_min = df[col].min()\n",
        "            c_max = df[col].max()\n",
        "            if str(col_type)[:3] == 'int':\n",
        "                if c_min > np.iinfo(np.int8).min and c_max < np.iinfo(np.int8).max:\n",
        "                    df[col] = df[col].astype(np.int8)\n",
        "                elif c_min > np.iinfo(np.int16).min and c_max < np.iinfo(np.int16).max:\n",
        "                       df[col] = df[col].astype(np.int16)\n",
        "                elif c_min > np.iinfo(np.int32).min and c_max < np.iinfo(np.int32).max:\n",
        "                    df[col] = df[col].astype(np.int32)\n",
        "                elif c_min > np.iinfo(np.int64).min and c_max < np.iinfo(np.int64).max:\n",
        "                    df[col] = df[col].astype(np.int64)  \n",
        "            else:\n",
        "                if c_min > np.finfo(np.float16).min and c_max < np.finfo(np.float16).max:\n",
        "                    df[col] = df[col].astype(np.float16)\n",
        "                elif c_min > np.finfo(np.float32).min and c_max < np.finfo(np.float32).max:\n",
        "                    df[col] = df[col].astype(np.float32)\n",
        "                else:\n",
        "                    df[col] = df[col].astype(np.float64)    \n",
        "    end_mem = df.memory_usage(deep=True).sum() / 1024**2\n",
        "    if verbose: print('Mem. usage decreased to {:5.2f} Mb ({:.1f}% reduction)'.format(end_mem, 100 * (start_mem - end_mem) / start_mem))\n",
        "    return df"
      ],
      "execution_count": null,
      "outputs": []
    },
    {
      "cell_type": "code",
      "metadata": {
        "id": "ZsrTiJLA57tF"
      },
      "source": [
        "def pred_list_to_distro(pred_list, wei=False, total_days=30, phi=2, power=1.5):\n",
        "    distros = dict()\n",
        "    for mu in tqdm.tqdm(range(1,total_days+1),total=total_days):\n",
        "        if wei:\n",
        "            distros[mu] = [st.norm.cdf(days, loc=mu, scale=1) for days in range(0,total_days+1,1)]\n",
        "            #distros[mu] = [st.norm.cdf(days+1, loc=mu,scale=1)-st.norm.cdf(days,loc=mu,scale=1) for days in range(0,total_days+1,1)]\n",
        "        else:\n",
        "            distros[mu] = [tweedie.tweedie(p=power, mu=mu, phi=phi).cdf(days) for days in range(0,total_days+1,1)]\n",
        "\n",
        "        if np.sum(distros[mu]) == 0:\n",
        "            distros[mu] = 1/total_days\n",
        "        else:          \n",
        "          if np.sum(distros[mu]) > 0:           \n",
        "              distros[mu] = np.diff(distros[mu])\n",
        "              distros[mu] = np.round(distros[mu] / np.sum(distros[mu]), 4)\n",
        "          else:\n",
        "              distros[mu] = distros[mu][1:]\n",
        "              distros[mu][-1] = 1\n",
        "        \n",
        "    \n",
        "    prob_array = np.zeros((pred_list.shape[0], total_days))\n",
        "\n",
        "    for row, mu in enumerate(pred_list):\n",
        "        prob_array[row, :] = distros[mu]\n",
        "\n",
        "    return prob_array"
      ],
      "execution_count": null,
      "outputs": []
    },
    {
      "cell_type": "code",
      "metadata": {
        "id": "d01x-QYb-OtX"
      },
      "source": [
        "def calc_probs(pred_list, std_stock=8.652240203417234, total_days=30):\n",
        "  distros = dict()\n",
        "  for j in tqdm.tqdm(pred_list,total=len(pred_list)):\n",
        "    norm_dist= norm(j,std_stock)\n",
        "    probs = []\n",
        "    for i in range(1,total_days+1):\n",
        "      probs.append(norm_dist.cdf(i+1)-norm_dist.cdf(i))\n",
        "    if np.sum(probs)==0:\n",
        "      probs = list(np.ones(total_days)/30)\n",
        "    distros[j] = np.asarray(probs)\n",
        "\n",
        "  prob_array = np.zeros((len(pred_list),total_days))\n",
        "  for row, mu in enumerate(pred_list):\n",
        "    prob_array[row,:] = distros[mu]\n",
        "\n",
        "  return prob_array"
      ],
      "execution_count": null,
      "outputs": []
    },
    {
      "cell_type": "code",
      "metadata": {
        "id": "kPDhQMQpL2be"
      },
      "source": [
        "def preprocessing(df):\n",
        "  df = df.reset_index()\n",
        "  categorys = ['item_domain_id', 'currency', 'listing_type', 'shipping_logistic_type', 'shipping_payment', 'site_id']\n",
        "  for cat in categorys:\n",
        "    df[cat] = df[cat].astype('category').cat.codes\n",
        "  df.loc[df['minutes_active']==0,'active'] = 0\n",
        "  df['active'] = df['active'].fillna(1).copy()  \n",
        "  df['date'] = pd.to_datetime(df.date)\n",
        "  df = reduce_mem_usage(df)\n",
        "  \n",
        "  return df"
      ],
      "execution_count": null,
      "outputs": []
    },
    {
      "cell_type": "markdown",
      "metadata": {
        "id": "iaVyu5oqF6lc"
      },
      "source": [
        "# **Load data**"
      ]
    },
    {
      "cell_type": "code",
      "metadata": {
        "id": "wGCrDonTgmJv",
        "colab": {
          "base_uri": "https://localhost:8080/"
        },
        "outputId": "1ac9ed72-729f-485f-b3da-eac5d2f17865"
      },
      "source": [
        "df = pd.read_csv(path+'/train_data_full.csv.gz',compression=\"gzip\",index_col=0)\n",
        "test = pd.read_csv(path+'/test_data.csv',index_col=0).squeeze()"
      ],
      "execution_count": null,
      "outputs": [
        {
          "output_type": "stream",
          "name": "stderr",
          "text": [
            "/usr/local/lib/python3.7/dist-packages/numpy/lib/arraysetops.py:580: FutureWarning: elementwise comparison failed; returning scalar instead, but in the future will perform elementwise comparison\n",
            "  mask |= (ar1 == a)\n"
          ]
        }
      ]
    },
    {
      "cell_type": "code",
      "metadata": {
        "colab": {
          "base_uri": "https://localhost:8080/",
          "height": 173
        },
        "id": "5WQ1x7kMxjYG",
        "outputId": "f750df81-e344-4374-cdaf-1ce6c7221ff9"
      },
      "source": [
        "df.head(3)"
      ],
      "execution_count": null,
      "outputs": [
        {
          "output_type": "execute_result",
          "data": {
            "text/html": [
              "<div>\n",
              "<style scoped>\n",
              "    .dataframe tbody tr th:only-of-type {\n",
              "        vertical-align: middle;\n",
              "    }\n",
              "\n",
              "    .dataframe tbody tr th {\n",
              "        vertical-align: top;\n",
              "    }\n",
              "\n",
              "    .dataframe thead th {\n",
              "        text-align: right;\n",
              "    }\n",
              "</style>\n",
              "<table border=\"1\" class=\"dataframe\">\n",
              "  <thead>\n",
              "    <tr style=\"text-align: right;\">\n",
              "      <th></th>\n",
              "      <th>date</th>\n",
              "      <th>sold_quantity</th>\n",
              "      <th>current_price</th>\n",
              "      <th>currency</th>\n",
              "      <th>listing_type</th>\n",
              "      <th>shipping_logistic_type</th>\n",
              "      <th>shipping_payment</th>\n",
              "      <th>minutes_active</th>\n",
              "      <th>item_domain_id</th>\n",
              "      <th>site_id</th>\n",
              "    </tr>\n",
              "    <tr>\n",
              "      <th>sku</th>\n",
              "      <th></th>\n",
              "      <th></th>\n",
              "      <th></th>\n",
              "      <th></th>\n",
              "      <th></th>\n",
              "      <th></th>\n",
              "      <th></th>\n",
              "      <th></th>\n",
              "      <th></th>\n",
              "      <th></th>\n",
              "    </tr>\n",
              "  </thead>\n",
              "  <tbody>\n",
              "    <tr>\n",
              "      <th>464801</th>\n",
              "      <td>2021-02-01</td>\n",
              "      <td>0</td>\n",
              "      <td>156.78</td>\n",
              "      <td>REA</td>\n",
              "      <td>classic</td>\n",
              "      <td>fulfillment</td>\n",
              "      <td>free_shipping</td>\n",
              "      <td>1440.0</td>\n",
              "      <td>MLB-NEBULIZERS</td>\n",
              "      <td>MLB</td>\n",
              "    </tr>\n",
              "    <tr>\n",
              "      <th>464801</th>\n",
              "      <td>2021-02-02</td>\n",
              "      <td>0</td>\n",
              "      <td>156.78</td>\n",
              "      <td>REA</td>\n",
              "      <td>classic</td>\n",
              "      <td>fulfillment</td>\n",
              "      <td>free_shipping</td>\n",
              "      <td>1440.0</td>\n",
              "      <td>MLB-NEBULIZERS</td>\n",
              "      <td>MLB</td>\n",
              "    </tr>\n",
              "    <tr>\n",
              "      <th>464801</th>\n",
              "      <td>2021-02-03</td>\n",
              "      <td>0</td>\n",
              "      <td>156.78</td>\n",
              "      <td>REA</td>\n",
              "      <td>classic</td>\n",
              "      <td>fulfillment</td>\n",
              "      <td>free_shipping</td>\n",
              "      <td>1440.0</td>\n",
              "      <td>MLB-NEBULIZERS</td>\n",
              "      <td>MLB</td>\n",
              "    </tr>\n",
              "  </tbody>\n",
              "</table>\n",
              "</div>"
            ],
            "text/plain": [
              "              date  sold_quantity  ...  item_domain_id site_id\n",
              "sku                                ...                        \n",
              "464801  2021-02-01              0  ...  MLB-NEBULIZERS     MLB\n",
              "464801  2021-02-02              0  ...  MLB-NEBULIZERS     MLB\n",
              "464801  2021-02-03              0  ...  MLB-NEBULIZERS     MLB\n",
              "\n",
              "[3 rows x 10 columns]"
            ]
          },
          "metadata": {},
          "execution_count": 9
        }
      ]
    },
    {
      "cell_type": "markdown",
      "metadata": {
        "id": "uBsRK5IFGUqt"
      },
      "source": [
        "# **Data description**"
      ]
    },
    {
      "cell_type": "markdown",
      "metadata": {
        "id": "tD5ePIjaGz4w"
      },
      "source": [
        "## **Data dimension**"
      ]
    },
    {
      "cell_type": "code",
      "metadata": {
        "id": "KPXVrP4mGTlq",
        "colab": {
          "base_uri": "https://localhost:8080/"
        },
        "outputId": "eb4a7b9d-cc7f-4f4d-e9ef-fadab695da6c"
      },
      "source": [
        "df.shape"
      ],
      "execution_count": null,
      "outputs": [
        {
          "output_type": "execute_result",
          "data": {
            "text/plain": [
              "(37660279, 10)"
            ]
          },
          "metadata": {},
          "execution_count": 10
        }
      ]
    },
    {
      "cell_type": "markdown",
      "metadata": {
        "id": "wqCgDh7wG9ka"
      },
      "source": [
        "## **Data type**"
      ]
    },
    {
      "cell_type": "code",
      "metadata": {
        "id": "2dW2HkaeGslC",
        "colab": {
          "base_uri": "https://localhost:8080/"
        },
        "outputId": "de34ef1a-0101-431d-ed2e-2b9be2b14d4b"
      },
      "source": [
        "df.dtypes"
      ],
      "execution_count": null,
      "outputs": [
        {
          "output_type": "execute_result",
          "data": {
            "text/plain": [
              "date                       object\n",
              "sold_quantity               int64\n",
              "current_price             float64\n",
              "currency                   object\n",
              "listing_type               object\n",
              "shipping_logistic_type     object\n",
              "shipping_payment           object\n",
              "minutes_active            float64\n",
              "item_domain_id             object\n",
              "site_id                    object\n",
              "dtype: object"
            ]
          },
          "metadata": {},
          "execution_count": 11
        }
      ]
    },
    {
      "cell_type": "markdown",
      "metadata": {
        "id": "vR83MMVTHG9X"
      },
      "source": [
        "## **Checking NaN**\n"
      ]
    },
    {
      "cell_type": "code",
      "metadata": {
        "id": "s2onBpW3HGTy",
        "colab": {
          "base_uri": "https://localhost:8080/"
        },
        "outputId": "700a24f6-9a68-405c-eabf-77c32d4d9063"
      },
      "source": [
        "df.isnull().sum()"
      ],
      "execution_count": null,
      "outputs": [
        {
          "output_type": "execute_result",
          "data": {
            "text/plain": [
              "date                        0\n",
              "sold_quantity               0\n",
              "current_price               0\n",
              "currency                    0\n",
              "listing_type                0\n",
              "shipping_logistic_type      0\n",
              "shipping_payment            0\n",
              "minutes_active              0\n",
              "item_domain_id            177\n",
              "site_id                     0\n",
              "dtype: int64"
            ]
          },
          "metadata": {},
          "execution_count": 12
        }
      ]
    },
    {
      "cell_type": "code",
      "metadata": {
        "id": "ypgUubIlJ5Fb",
        "colab": {
          "base_uri": "https://localhost:8080/"
        },
        "outputId": "d8ee0cf4-d81d-4c13-efe5-65e337014db1"
      },
      "source": [
        "df['item_domain_id'].value_counts()"
      ],
      "execution_count": null,
      "outputs": [
        {
          "output_type": "execute_result",
          "data": {
            "text/plain": [
              "MLB-SUPPLEMENTS               786063\n",
              "MLM-CELLPHONE_COVERS          592007\n",
              "MLB-HAIR_TREATMENTS           266634\n",
              "MLM-T_SHIRTS                  254175\n",
              "MLM-HEADPHONES                247016\n",
              "                               ...  \n",
              "MLM-GAME_CONSOLE_MULTITAPS         7\n",
              "MLA-GLOVES_AND_MITTENS             6\n",
              "MLA-MINI_BAG_SEALERS               6\n",
              "MLA-PET_FOOTWEAR                   5\n",
              "MLA-RADIO_BASE_STATIONS            1\n",
              "Name: item_domain_id, Length: 8408, dtype: int64"
            ]
          },
          "metadata": {},
          "execution_count": 13
        }
      ]
    },
    {
      "cell_type": "code",
      "metadata": {
        "id": "Fy80tN2yHh4p"
      },
      "source": [
        "nulls = df[df['item_domain_id'].isna()]"
      ],
      "execution_count": null,
      "outputs": []
    },
    {
      "cell_type": "code",
      "metadata": {
        "id": "HwvQW9dYINy6",
        "colab": {
          "base_uri": "https://localhost:8080/"
        },
        "outputId": "fa96bf43-1207-48dd-b8cb-17e499538a35"
      },
      "source": [
        "nulls.reset_index()['sku'].value_counts()"
      ],
      "execution_count": null,
      "outputs": [
        {
          "output_type": "execute_result",
          "data": {
            "text/plain": [
              "454273    59\n",
              "459892    59\n",
              "553503    59\n",
              "Name: sku, dtype: int64"
            ]
          },
          "metadata": {},
          "execution_count": 15
        }
      ]
    },
    {
      "cell_type": "code",
      "metadata": {
        "id": "hYdxu50jhvQg"
      },
      "source": [
        "df['item_domain_id'].fillna(df['item_domain_id'].mode()[0],inplace=True)"
      ],
      "execution_count": null,
      "outputs": []
    },
    {
      "cell_type": "code",
      "metadata": {
        "id": "LfUYQ3DXN8EJ",
        "colab": {
          "base_uri": "https://localhost:8080/"
        },
        "outputId": "b9b03ac3-87a7-4d9a-f9a4-fc7902b73b12"
      },
      "source": [
        "df.dtypes"
      ],
      "execution_count": null,
      "outputs": [
        {
          "output_type": "execute_result",
          "data": {
            "text/plain": [
              "date                       object\n",
              "sold_quantity               int64\n",
              "current_price             float64\n",
              "currency                   object\n",
              "listing_type               object\n",
              "shipping_logistic_type     object\n",
              "shipping_payment           object\n",
              "minutes_active            float64\n",
              "item_domain_id             object\n",
              "site_id                    object\n",
              "dtype: object"
            ]
          },
          "metadata": {},
          "execution_count": 17
        }
      ]
    },
    {
      "cell_type": "code",
      "metadata": {
        "id": "rA7xSegSOO6X"
      },
      "source": [
        "df['date'] = pd.to_datetime(df['date'])\n",
        "num_attributes = df.select_dtypes(include = ['int32', 'int64', 'float64'])\n",
        "\n",
        "cat_attributes = df.select_dtypes(exclude = ['int32', 'int64', 'float64', 'datetime64[ns]'])"
      ],
      "execution_count": null,
      "outputs": []
    },
    {
      "cell_type": "code",
      "metadata": {
        "id": "L1etmEGoOf8y",
        "colab": {
          "base_uri": "https://localhost:8080/",
          "height": 142
        },
        "outputId": "256c3796-c294-4016-918b-84e2d9feb5eb"
      },
      "source": [
        "ct1 = pd.DataFrame( num_attributes.apply(np.mean)).T\n",
        "ct2 = pd.DataFrame( num_attributes.apply(np.median)).T\n",
        "\n",
        "d1 = pd.DataFrame( num_attributes.apply(np.std)).T\n",
        "d2 = pd.DataFrame( num_attributes.apply(min)).T\n",
        "d3 = pd.DataFrame( num_attributes.apply(max)).T\n",
        "d4 = pd.DataFrame( num_attributes.apply(lambda x: x.max() - x.min() ) ).T\n",
        "d5 = pd.DataFrame( num_attributes.apply(lambda x: x.skew() ) ).T\n",
        "d6 = pd.DataFrame( num_attributes.apply(lambda x: x.kurtosis() ) ).T\n",
        "\n",
        "m = pd.concat([d2, d3, d4, ct1, ct2, d1, d5, d6]).T.reset_index()\n",
        "m.columns = ['atributos', 'min', 'max', 'intervalo', 'media', 'mediana', 'desvio', 'skew', 'curtose']\n",
        "\n",
        "m"
      ],
      "execution_count": null,
      "outputs": [
        {
          "output_type": "execute_result",
          "data": {
            "text/html": [
              "<div>\n",
              "<style scoped>\n",
              "    .dataframe tbody tr th:only-of-type {\n",
              "        vertical-align: middle;\n",
              "    }\n",
              "\n",
              "    .dataframe tbody tr th {\n",
              "        vertical-align: top;\n",
              "    }\n",
              "\n",
              "    .dataframe thead th {\n",
              "        text-align: right;\n",
              "    }\n",
              "</style>\n",
              "<table border=\"1\" class=\"dataframe\">\n",
              "  <thead>\n",
              "    <tr style=\"text-align: right;\">\n",
              "      <th></th>\n",
              "      <th>atributos</th>\n",
              "      <th>min</th>\n",
              "      <th>max</th>\n",
              "      <th>intervalo</th>\n",
              "      <th>media</th>\n",
              "      <th>mediana</th>\n",
              "      <th>desvio</th>\n",
              "      <th>skew</th>\n",
              "      <th>curtose</th>\n",
              "    </tr>\n",
              "  </thead>\n",
              "  <tbody>\n",
              "    <tr>\n",
              "      <th>0</th>\n",
              "      <td>sold_quantity</td>\n",
              "      <td>0.00</td>\n",
              "      <td>6.951000e+03</td>\n",
              "      <td>6.951000e+03</td>\n",
              "      <td>0.990093</td>\n",
              "      <td>0.0</td>\n",
              "      <td>9.989535e+00</td>\n",
              "      <td>178.549615</td>\n",
              "      <td>62641.787827</td>\n",
              "    </tr>\n",
              "    <tr>\n",
              "      <th>1</th>\n",
              "      <td>current_price</td>\n",
              "      <td>0.87</td>\n",
              "      <td>1.000000e+09</td>\n",
              "      <td>1.000000e+09</td>\n",
              "      <td>2357.780463</td>\n",
              "      <td>119.0</td>\n",
              "      <td>1.263914e+06</td>\n",
              "      <td>789.185694</td>\n",
              "      <td>624305.281067</td>\n",
              "    </tr>\n",
              "    <tr>\n",
              "      <th>2</th>\n",
              "      <td>minutes_active</td>\n",
              "      <td>0.00</td>\n",
              "      <td>1.440000e+03</td>\n",
              "      <td>1.440000e+03</td>\n",
              "      <td>1043.414678</td>\n",
              "      <td>1440.0</td>\n",
              "      <td>6.302455e+02</td>\n",
              "      <td>-1.008095</td>\n",
              "      <td>-0.940990</td>\n",
              "    </tr>\n",
              "  </tbody>\n",
              "</table>\n",
              "</div>"
            ],
            "text/plain": [
              "        atributos   min           max  ...        desvio        skew        curtose\n",
              "0   sold_quantity  0.00  6.951000e+03  ...  9.989535e+00  178.549615   62641.787827\n",
              "1   current_price  0.87  1.000000e+09  ...  1.263914e+06  789.185694  624305.281067\n",
              "2  minutes_active  0.00  1.440000e+03  ...  6.302455e+02   -1.008095      -0.940990\n",
              "\n",
              "[3 rows x 9 columns]"
            ]
          },
          "metadata": {},
          "execution_count": 19
        }
      ]
    },
    {
      "cell_type": "code",
      "metadata": {
        "id": "61Cievs_PANx",
        "colab": {
          "base_uri": "https://localhost:8080/"
        },
        "outputId": "fb908dfb-4030-43da-abdc-f5265b5187e9"
      },
      "source": [
        "cat_attributes.apply(lambda x: x.unique().shape[0])"
      ],
      "execution_count": null,
      "outputs": [
        {
          "output_type": "execute_result",
          "data": {
            "text/plain": [
              "currency                     4\n",
              "listing_type                 2\n",
              "shipping_logistic_type       3\n",
              "shipping_payment             2\n",
              "item_domain_id            8408\n",
              "site_id                      3\n",
              "dtype: int64"
            ]
          },
          "metadata": {},
          "execution_count": 20
        }
      ]
    },
    {
      "cell_type": "code",
      "metadata": {
        "id": "xIA3W8RUPHJ5",
        "colab": {
          "base_uri": "https://localhost:8080/"
        },
        "outputId": "87e5d78a-1eb7-433e-b5c5-545cc1213589"
      },
      "source": [
        "del num_attributes\n",
        "del cat_attributes\n",
        "del nulls\n",
        "gc.collect()"
      ],
      "execution_count": null,
      "outputs": [
        {
          "output_type": "execute_result",
          "data": {
            "text/plain": [
              "116"
            ]
          },
          "metadata": {},
          "execution_count": 21
        }
      ]
    },
    {
      "cell_type": "markdown",
      "metadata": {
        "id": "Hnfult1EIsYL"
      },
      "source": [
        "# **Model**"
      ]
    },
    {
      "cell_type": "code",
      "metadata": {
        "id": "4mNhh7c3GHKE",
        "colab": {
          "base_uri": "https://localhost:8080/"
        },
        "outputId": "ae14da4c-7874-4d78-e404-fca87310937d"
      },
      "source": [
        "df = preprocessing(df)"
      ],
      "execution_count": null,
      "outputs": [
        {
          "output_type": "stream",
          "name": "stdout",
          "text": [
            "Mem. usage decreased to 1041.55 Mb (47.3% reduction)\n"
          ]
        }
      ]
    },
    {
      "cell_type": "code",
      "metadata": {
        "id": "Pl8GHdQV_WMh"
      },
      "source": [
        "cols_remove_for_train = ['date','sold_quantity']"
      ],
      "execution_count": null,
      "outputs": []
    },
    {
      "cell_type": "code",
      "metadata": {
        "colab": {
          "base_uri": "https://localhost:8080/"
        },
        "id": "-sYeszllqLW0",
        "outputId": "671102ae-344b-445e-b9e3-c5e6334b8ab7"
      },
      "source": [
        "%%time\n",
        "mdl = linear_model.TweedieRegressor(power=0.0,verbose=1,max_iter=400)\n",
        "pt = PowerTransformer()\n",
        "mdl.fit(df.drop(cols_remove_for_train,axis=1), pt.fit_transform( df[['sold_quantity']] ))"
      ],
      "execution_count": null,
      "outputs": [
        {
          "output_type": "stream",
          "name": "stderr",
          "text": [
            "/usr/local/lib/python3.7/dist-packages/sklearn/utils/validation.py:63: DataConversionWarning: A column-vector y was passed when a 1d array was expected. Please change the shape of y to (n_samples, ), for example using ravel().\n",
            "  return f(*args, **kwargs)\n"
          ]
        },
        {
          "output_type": "stream",
          "name": "stdout",
          "text": [
            "CPU times: user 3min 37s, sys: 20.1 s, total: 3min 57s\n",
            "Wall time: 2min 59s\n"
          ]
        }
      ]
    },
    {
      "cell_type": "code",
      "metadata": {
        "id": "_12qfTnCiZO-"
      },
      "source": [
        "test_df = df[df['date']=='2021-03-31']\n",
        "test_df = test_df[test_df['sku'].isin(test.index)]"
      ],
      "execution_count": null,
      "outputs": []
    },
    {
      "cell_type": "code",
      "metadata": {
        "id": "npm6NhQtqYbi"
      },
      "source": [
        "y_pred =  mdl.predict(test_df.drop(cols_remove_for_train,axis=1)) \n",
        "y_pred2 = pt.inverse_transform(y_pred.reshape(-1,1))"
      ],
      "execution_count": null,
      "outputs": []
    },
    {
      "cell_type": "code",
      "metadata": {
        "id": "yuXUW54Tl0AV"
      },
      "source": [
        "tmp = test_df[['sku']].copy()\n",
        "tmp['predict'] = y_pred2\n",
        "tmp['real_stock'] = tmp['sku'].map(test)\n",
        "tmp['days_to_stockout'] = (tmp['real_stock']/tmp['predict']).fillna(30.).clip(1,30).astype(int)"
      ],
      "execution_count": null,
      "outputs": []
    },
    {
      "cell_type": "markdown",
      "metadata": {
        "id": "nmAeADkuU0bx"
      },
      "source": [
        "# **Submission**"
      ]
    },
    {
      "cell_type": "code",
      "metadata": {
        "id": "ykGOHCh2vXRe",
        "colab": {
          "base_uri": "https://localhost:8080/"
        },
        "outputId": "60816e15-fe6a-4722-bb78-fc3b2e08ea96"
      },
      "source": [
        "prob = pred_list_to_distro(tmp['days_to_stockout'].values)"
      ],
      "execution_count": null,
      "outputs": [
        {
          "output_type": "stream",
          "name": "stderr",
          "text": [
            "100%|██████████| 30/30 [00:01<00:00, 15.88it/s]\n"
          ]
        }
      ]
    },
    {
      "cell_type": "code",
      "metadata": {
        "id": "0-4FGWhIvrs5"
      },
      "source": [
        "pd.DataFrame(prob).round(4).to_csv('sub41.csv.gz',header=False,index=False,compression='gzip')"
      ],
      "execution_count": null,
      "outputs": []
    },
    {
      "cell_type": "code",
      "metadata": {
        "id": "kGUq_ueHv8cL",
        "colab": {
          "base_uri": "https://localhost:8080/",
          "height": 439
        },
        "outputId": "8b8d299e-56e5-420f-9d42-78c4aef58542"
      },
      "source": [
        "sub = pd.read_csv('sub41.csv.gz',header=None)\n",
        "sub"
      ],
      "execution_count": null,
      "outputs": [
        {
          "output_type": "execute_result",
          "data": {
            "text/html": [
              "<div>\n",
              "<style scoped>\n",
              "    .dataframe tbody tr th:only-of-type {\n",
              "        vertical-align: middle;\n",
              "    }\n",
              "\n",
              "    .dataframe tbody tr th {\n",
              "        vertical-align: top;\n",
              "    }\n",
              "\n",
              "    .dataframe thead th {\n",
              "        text-align: right;\n",
              "    }\n",
              "</style>\n",
              "<table border=\"1\" class=\"dataframe\">\n",
              "  <thead>\n",
              "    <tr style=\"text-align: right;\">\n",
              "      <th></th>\n",
              "      <th>0</th>\n",
              "      <th>1</th>\n",
              "      <th>2</th>\n",
              "      <th>3</th>\n",
              "      <th>4</th>\n",
              "      <th>5</th>\n",
              "      <th>6</th>\n",
              "      <th>7</th>\n",
              "      <th>8</th>\n",
              "      <th>9</th>\n",
              "      <th>10</th>\n",
              "      <th>11</th>\n",
              "      <th>12</th>\n",
              "      <th>13</th>\n",
              "      <th>14</th>\n",
              "      <th>15</th>\n",
              "      <th>16</th>\n",
              "      <th>17</th>\n",
              "      <th>18</th>\n",
              "      <th>19</th>\n",
              "      <th>20</th>\n",
              "      <th>21</th>\n",
              "      <th>22</th>\n",
              "      <th>23</th>\n",
              "      <th>24</th>\n",
              "      <th>25</th>\n",
              "      <th>26</th>\n",
              "      <th>27</th>\n",
              "      <th>28</th>\n",
              "      <th>29</th>\n",
              "    </tr>\n",
              "  </thead>\n",
              "  <tbody>\n",
              "    <tr>\n",
              "      <th>0</th>\n",
              "      <td>0.0180</td>\n",
              "      <td>0.0221</td>\n",
              "      <td>0.0259</td>\n",
              "      <td>0.0293</td>\n",
              "      <td>0.0324</td>\n",
              "      <td>0.0351</td>\n",
              "      <td>0.0373</td>\n",
              "      <td>0.0392</td>\n",
              "      <td>0.0406</td>\n",
              "      <td>0.0416</td>\n",
              "      <td>0.0423</td>\n",
              "      <td>0.0426</td>\n",
              "      <td>0.0425</td>\n",
              "      <td>0.0422</td>\n",
              "      <td>0.0417</td>\n",
              "      <td>0.0409</td>\n",
              "      <td>0.0399</td>\n",
              "      <td>0.0387</td>\n",
              "      <td>0.0374</td>\n",
              "      <td>0.0360</td>\n",
              "      <td>0.0345</td>\n",
              "      <td>0.0330</td>\n",
              "      <td>0.0314</td>\n",
              "      <td>0.0298</td>\n",
              "      <td>0.0282</td>\n",
              "      <td>0.0266</td>\n",
              "      <td>0.0250</td>\n",
              "      <td>0.0235</td>\n",
              "      <td>0.0219</td>\n",
              "      <td>0.0205</td>\n",
              "    </tr>\n",
              "    <tr>\n",
              "      <th>1</th>\n",
              "      <td>0.0092</td>\n",
              "      <td>0.0118</td>\n",
              "      <td>0.0144</td>\n",
              "      <td>0.0171</td>\n",
              "      <td>0.0197</td>\n",
              "      <td>0.0223</td>\n",
              "      <td>0.0248</td>\n",
              "      <td>0.0272</td>\n",
              "      <td>0.0294</td>\n",
              "      <td>0.0315</td>\n",
              "      <td>0.0334</td>\n",
              "      <td>0.0351</td>\n",
              "      <td>0.0367</td>\n",
              "      <td>0.0380</td>\n",
              "      <td>0.0392</td>\n",
              "      <td>0.0402</td>\n",
              "      <td>0.0410</td>\n",
              "      <td>0.0415</td>\n",
              "      <td>0.0420</td>\n",
              "      <td>0.0422</td>\n",
              "      <td>0.0423</td>\n",
              "      <td>0.0422</td>\n",
              "      <td>0.0419</td>\n",
              "      <td>0.0416</td>\n",
              "      <td>0.0411</td>\n",
              "      <td>0.0405</td>\n",
              "      <td>0.0398</td>\n",
              "      <td>0.0390</td>\n",
              "      <td>0.0381</td>\n",
              "      <td>0.0371</td>\n",
              "    </tr>\n",
              "    <tr>\n",
              "      <th>2</th>\n",
              "      <td>0.0087</td>\n",
              "      <td>0.0112</td>\n",
              "      <td>0.0138</td>\n",
              "      <td>0.0164</td>\n",
              "      <td>0.0189</td>\n",
              "      <td>0.0215</td>\n",
              "      <td>0.0240</td>\n",
              "      <td>0.0263</td>\n",
              "      <td>0.0286</td>\n",
              "      <td>0.0307</td>\n",
              "      <td>0.0327</td>\n",
              "      <td>0.0345</td>\n",
              "      <td>0.0361</td>\n",
              "      <td>0.0376</td>\n",
              "      <td>0.0389</td>\n",
              "      <td>0.0400</td>\n",
              "      <td>0.0409</td>\n",
              "      <td>0.0416</td>\n",
              "      <td>0.0421</td>\n",
              "      <td>0.0425</td>\n",
              "      <td>0.0427</td>\n",
              "      <td>0.0427</td>\n",
              "      <td>0.0426</td>\n",
              "      <td>0.0424</td>\n",
              "      <td>0.0420</td>\n",
              "      <td>0.0415</td>\n",
              "      <td>0.0409</td>\n",
              "      <td>0.0402</td>\n",
              "      <td>0.0394</td>\n",
              "      <td>0.0386</td>\n",
              "    </tr>\n",
              "    <tr>\n",
              "      <th>3</th>\n",
              "      <td>0.0087</td>\n",
              "      <td>0.0112</td>\n",
              "      <td>0.0138</td>\n",
              "      <td>0.0164</td>\n",
              "      <td>0.0189</td>\n",
              "      <td>0.0215</td>\n",
              "      <td>0.0240</td>\n",
              "      <td>0.0263</td>\n",
              "      <td>0.0286</td>\n",
              "      <td>0.0307</td>\n",
              "      <td>0.0327</td>\n",
              "      <td>0.0345</td>\n",
              "      <td>0.0361</td>\n",
              "      <td>0.0376</td>\n",
              "      <td>0.0389</td>\n",
              "      <td>0.0400</td>\n",
              "      <td>0.0409</td>\n",
              "      <td>0.0416</td>\n",
              "      <td>0.0421</td>\n",
              "      <td>0.0425</td>\n",
              "      <td>0.0427</td>\n",
              "      <td>0.0427</td>\n",
              "      <td>0.0426</td>\n",
              "      <td>0.0424</td>\n",
              "      <td>0.0420</td>\n",
              "      <td>0.0415</td>\n",
              "      <td>0.0409</td>\n",
              "      <td>0.0402</td>\n",
              "      <td>0.0394</td>\n",
              "      <td>0.0386</td>\n",
              "    </tr>\n",
              "    <tr>\n",
              "      <th>4</th>\n",
              "      <td>0.0087</td>\n",
              "      <td>0.0112</td>\n",
              "      <td>0.0138</td>\n",
              "      <td>0.0164</td>\n",
              "      <td>0.0189</td>\n",
              "      <td>0.0215</td>\n",
              "      <td>0.0240</td>\n",
              "      <td>0.0263</td>\n",
              "      <td>0.0286</td>\n",
              "      <td>0.0307</td>\n",
              "      <td>0.0327</td>\n",
              "      <td>0.0345</td>\n",
              "      <td>0.0361</td>\n",
              "      <td>0.0376</td>\n",
              "      <td>0.0389</td>\n",
              "      <td>0.0400</td>\n",
              "      <td>0.0409</td>\n",
              "      <td>0.0416</td>\n",
              "      <td>0.0421</td>\n",
              "      <td>0.0425</td>\n",
              "      <td>0.0427</td>\n",
              "      <td>0.0427</td>\n",
              "      <td>0.0426</td>\n",
              "      <td>0.0424</td>\n",
              "      <td>0.0420</td>\n",
              "      <td>0.0415</td>\n",
              "      <td>0.0409</td>\n",
              "      <td>0.0402</td>\n",
              "      <td>0.0394</td>\n",
              "      <td>0.0386</td>\n",
              "    </tr>\n",
              "    <tr>\n",
              "      <th>...</th>\n",
              "      <td>...</td>\n",
              "      <td>...</td>\n",
              "      <td>...</td>\n",
              "      <td>...</td>\n",
              "      <td>...</td>\n",
              "      <td>...</td>\n",
              "      <td>...</td>\n",
              "      <td>...</td>\n",
              "      <td>...</td>\n",
              "      <td>...</td>\n",
              "      <td>...</td>\n",
              "      <td>...</td>\n",
              "      <td>...</td>\n",
              "      <td>...</td>\n",
              "      <td>...</td>\n",
              "      <td>...</td>\n",
              "      <td>...</td>\n",
              "      <td>...</td>\n",
              "      <td>...</td>\n",
              "      <td>...</td>\n",
              "      <td>...</td>\n",
              "      <td>...</td>\n",
              "      <td>...</td>\n",
              "      <td>...</td>\n",
              "      <td>...</td>\n",
              "      <td>...</td>\n",
              "      <td>...</td>\n",
              "      <td>...</td>\n",
              "      <td>...</td>\n",
              "      <td>...</td>\n",
              "    </tr>\n",
              "    <tr>\n",
              "      <th>551467</th>\n",
              "      <td>0.0087</td>\n",
              "      <td>0.0112</td>\n",
              "      <td>0.0138</td>\n",
              "      <td>0.0164</td>\n",
              "      <td>0.0189</td>\n",
              "      <td>0.0215</td>\n",
              "      <td>0.0240</td>\n",
              "      <td>0.0263</td>\n",
              "      <td>0.0286</td>\n",
              "      <td>0.0307</td>\n",
              "      <td>0.0327</td>\n",
              "      <td>0.0345</td>\n",
              "      <td>0.0361</td>\n",
              "      <td>0.0376</td>\n",
              "      <td>0.0389</td>\n",
              "      <td>0.0400</td>\n",
              "      <td>0.0409</td>\n",
              "      <td>0.0416</td>\n",
              "      <td>0.0421</td>\n",
              "      <td>0.0425</td>\n",
              "      <td>0.0427</td>\n",
              "      <td>0.0427</td>\n",
              "      <td>0.0426</td>\n",
              "      <td>0.0424</td>\n",
              "      <td>0.0420</td>\n",
              "      <td>0.0415</td>\n",
              "      <td>0.0409</td>\n",
              "      <td>0.0402</td>\n",
              "      <td>0.0394</td>\n",
              "      <td>0.0386</td>\n",
              "    </tr>\n",
              "    <tr>\n",
              "      <th>551468</th>\n",
              "      <td>0.0087</td>\n",
              "      <td>0.0112</td>\n",
              "      <td>0.0138</td>\n",
              "      <td>0.0164</td>\n",
              "      <td>0.0189</td>\n",
              "      <td>0.0215</td>\n",
              "      <td>0.0240</td>\n",
              "      <td>0.0263</td>\n",
              "      <td>0.0286</td>\n",
              "      <td>0.0307</td>\n",
              "      <td>0.0327</td>\n",
              "      <td>0.0345</td>\n",
              "      <td>0.0361</td>\n",
              "      <td>0.0376</td>\n",
              "      <td>0.0389</td>\n",
              "      <td>0.0400</td>\n",
              "      <td>0.0409</td>\n",
              "      <td>0.0416</td>\n",
              "      <td>0.0421</td>\n",
              "      <td>0.0425</td>\n",
              "      <td>0.0427</td>\n",
              "      <td>0.0427</td>\n",
              "      <td>0.0426</td>\n",
              "      <td>0.0424</td>\n",
              "      <td>0.0420</td>\n",
              "      <td>0.0415</td>\n",
              "      <td>0.0409</td>\n",
              "      <td>0.0402</td>\n",
              "      <td>0.0394</td>\n",
              "      <td>0.0386</td>\n",
              "    </tr>\n",
              "    <tr>\n",
              "      <th>551469</th>\n",
              "      <td>0.0087</td>\n",
              "      <td>0.0112</td>\n",
              "      <td>0.0138</td>\n",
              "      <td>0.0164</td>\n",
              "      <td>0.0189</td>\n",
              "      <td>0.0215</td>\n",
              "      <td>0.0240</td>\n",
              "      <td>0.0263</td>\n",
              "      <td>0.0286</td>\n",
              "      <td>0.0307</td>\n",
              "      <td>0.0327</td>\n",
              "      <td>0.0345</td>\n",
              "      <td>0.0361</td>\n",
              "      <td>0.0376</td>\n",
              "      <td>0.0389</td>\n",
              "      <td>0.0400</td>\n",
              "      <td>0.0409</td>\n",
              "      <td>0.0416</td>\n",
              "      <td>0.0421</td>\n",
              "      <td>0.0425</td>\n",
              "      <td>0.0427</td>\n",
              "      <td>0.0427</td>\n",
              "      <td>0.0426</td>\n",
              "      <td>0.0424</td>\n",
              "      <td>0.0420</td>\n",
              "      <td>0.0415</td>\n",
              "      <td>0.0409</td>\n",
              "      <td>0.0402</td>\n",
              "      <td>0.0394</td>\n",
              "      <td>0.0386</td>\n",
              "    </tr>\n",
              "    <tr>\n",
              "      <th>551470</th>\n",
              "      <td>0.0196</td>\n",
              "      <td>0.0239</td>\n",
              "      <td>0.0279</td>\n",
              "      <td>0.0314</td>\n",
              "      <td>0.0345</td>\n",
              "      <td>0.0371</td>\n",
              "      <td>0.0392</td>\n",
              "      <td>0.0409</td>\n",
              "      <td>0.0421</td>\n",
              "      <td>0.0429</td>\n",
              "      <td>0.0433</td>\n",
              "      <td>0.0433</td>\n",
              "      <td>0.0430</td>\n",
              "      <td>0.0425</td>\n",
              "      <td>0.0416</td>\n",
              "      <td>0.0406</td>\n",
              "      <td>0.0393</td>\n",
              "      <td>0.0380</td>\n",
              "      <td>0.0365</td>\n",
              "      <td>0.0349</td>\n",
              "      <td>0.0332</td>\n",
              "      <td>0.0315</td>\n",
              "      <td>0.0298</td>\n",
              "      <td>0.0281</td>\n",
              "      <td>0.0264</td>\n",
              "      <td>0.0248</td>\n",
              "      <td>0.0232</td>\n",
              "      <td>0.0216</td>\n",
              "      <td>0.0201</td>\n",
              "      <td>0.0186</td>\n",
              "    </tr>\n",
              "    <tr>\n",
              "      <th>551471</th>\n",
              "      <td>0.0087</td>\n",
              "      <td>0.0112</td>\n",
              "      <td>0.0138</td>\n",
              "      <td>0.0164</td>\n",
              "      <td>0.0189</td>\n",
              "      <td>0.0215</td>\n",
              "      <td>0.0240</td>\n",
              "      <td>0.0263</td>\n",
              "      <td>0.0286</td>\n",
              "      <td>0.0307</td>\n",
              "      <td>0.0327</td>\n",
              "      <td>0.0345</td>\n",
              "      <td>0.0361</td>\n",
              "      <td>0.0376</td>\n",
              "      <td>0.0389</td>\n",
              "      <td>0.0400</td>\n",
              "      <td>0.0409</td>\n",
              "      <td>0.0416</td>\n",
              "      <td>0.0421</td>\n",
              "      <td>0.0425</td>\n",
              "      <td>0.0427</td>\n",
              "      <td>0.0427</td>\n",
              "      <td>0.0426</td>\n",
              "      <td>0.0424</td>\n",
              "      <td>0.0420</td>\n",
              "      <td>0.0415</td>\n",
              "      <td>0.0409</td>\n",
              "      <td>0.0402</td>\n",
              "      <td>0.0394</td>\n",
              "      <td>0.0386</td>\n",
              "    </tr>\n",
              "  </tbody>\n",
              "</table>\n",
              "<p>551472 rows × 30 columns</p>\n",
              "</div>"
            ],
            "text/plain": [
              "            0       1       2       3   ...      26      27      28      29\n",
              "0       0.0180  0.0221  0.0259  0.0293  ...  0.0250  0.0235  0.0219  0.0205\n",
              "1       0.0092  0.0118  0.0144  0.0171  ...  0.0398  0.0390  0.0381  0.0371\n",
              "2       0.0087  0.0112  0.0138  0.0164  ...  0.0409  0.0402  0.0394  0.0386\n",
              "3       0.0087  0.0112  0.0138  0.0164  ...  0.0409  0.0402  0.0394  0.0386\n",
              "4       0.0087  0.0112  0.0138  0.0164  ...  0.0409  0.0402  0.0394  0.0386\n",
              "...        ...     ...     ...     ...  ...     ...     ...     ...     ...\n",
              "551467  0.0087  0.0112  0.0138  0.0164  ...  0.0409  0.0402  0.0394  0.0386\n",
              "551468  0.0087  0.0112  0.0138  0.0164  ...  0.0409  0.0402  0.0394  0.0386\n",
              "551469  0.0087  0.0112  0.0138  0.0164  ...  0.0409  0.0402  0.0394  0.0386\n",
              "551470  0.0196  0.0239  0.0279  0.0314  ...  0.0232  0.0216  0.0201  0.0186\n",
              "551471  0.0087  0.0112  0.0138  0.0164  ...  0.0409  0.0402  0.0394  0.0386\n",
              "\n",
              "[551472 rows x 30 columns]"
            ]
          },
          "metadata": {},
          "execution_count": 30
        }
      ]
    },
    {
      "cell_type": "markdown",
      "metadata": {
        "id": "CdnmgXyOWn6Q"
      },
      "source": [
        "# **References**\n",
        "\n",
        "https://www.kaggle.com/rinnqd/reduce-memory-usage\n",
        "\n",
        "https://github.com/ledmaster/english_tutorials\n",
        "\n",
        "https://ml-challenge.mercadolibre.com/recipe/2021/baseline"
      ]
    }
  ]
}